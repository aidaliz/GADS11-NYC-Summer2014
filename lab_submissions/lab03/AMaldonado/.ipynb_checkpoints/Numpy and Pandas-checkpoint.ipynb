{
 "metadata": {
  "name": "",
  "signature": "sha256:d1da5aaad5a0700d4e5b325dea03a68249b155e21a8b2c222f4907f512c9fe5c"
 },
 "nbformat": 3,
 "nbformat_minor": 0,
 "worksheets": []
}